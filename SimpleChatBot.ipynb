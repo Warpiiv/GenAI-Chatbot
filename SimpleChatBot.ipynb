{
 "cells": [
  {
   "cell_type": "code",
   "execution_count": 1,
   "id": "ecb23a73-acb8-421e-a93f-b63932752ffa",
   "metadata": {},
   "outputs": [
    {
     "name": "stdout",
     "output_type": "stream",
     "text": [
      "Data loaded and processed successfully.\n",
      "     Company  Fiscal Year  Total Revenue  Net Income  Total Assets  \\\n",
      "2      Apple         2022       394328.0     99803.0      352755.0   \n",
      "1      Apple         2023       383285.0     96995.0      352583.0   \n",
      "0      Apple         2024       391035.0     93736.0      364980.0   \n",
      "8  Microsoft         2022       198270.0     61271.0      364840.0   \n",
      "7  Microsoft         2023       211915.0     72738.0      411976.0   \n",
      "\n",
      "   Total Liabilities  Cash Flow from Operations  Revenue Growth (%)  \\\n",
      "2           302083.0                   122151.0            0.000000   \n",
      "1           290437.0                   110543.0           -2.800461   \n",
      "0           308030.0                   118254.0            2.021994   \n",
      "8           198298.0                    89035.0            0.000000   \n",
      "7           205753.0                    87582.0            6.882030   \n",
      "\n",
      "   Net Income Growth (%)  \n",
      "2               0.000000  \n",
      "1              -2.813543  \n",
      "0              -3.359967  \n",
      "8               0.000000  \n",
      "7              18.715216  \n"
     ]
    }
   ],
   "source": [
    "import pandas as pd\n",
    "\n",
    "# Load the CSV data (replace with your actual file path)\n",
    "df = pd.read_csv('C:\\\\Users\\\\mcplh\\\\Downloads\\\\financial_data.csv', sep=',')\n",
    "# Clean numerical columns\n",
    "numeric_cols = ['Total Revenue', 'Net Income', 'Total Assets', 'Total Liabilities', 'Cash Flow from Operations']\n",
    "for col in numeric_cols:\n",
    "    df[col] = df[col].str.replace(',', '').astype(float)\n",
    "# Convert 'Fiscal Year' to integer\n",
    "df['Fiscal Year'] = df['Fiscal Year'].astype(int)\n",
    "# Ensure the data is sorted\n",
    "df = df.sort_values(by=['Company', 'Fiscal Year'])\n",
    "# Calculate YoY growth\n",
    "df['Revenue Growth (%)'] = df.groupby('Company')['Total Revenue'].pct_change() * 100\n",
    "df['Net Income Growth (%)'] = df.groupby('Company')['Net Income'].pct_change() * 100\n",
    "df.fillna(0, inplace=True)\n",
    "\n",
    "print(\"Data loaded and processed successfully.\")\n",
    "print(df.head()) # Optional: Display the first few rows to verify"
   ]
  },
  {
   "cell_type": "code",
   "execution_count": 3,
   "id": "178ffe69-f947-447e-9f40-59dd815cb84d",
   "metadata": {},
   "outputs": [],
   "source": [
    "def get_response(query):\n",
    "    query_lower = query.lower()  # Convert user input to lowercase\n",
    "\n",
    "    if query_lower == \"what was the total revenue for apple in 2023?\":\n",
    "        revenue = df[(df['Company'] == 'Apple') & (df['Fiscal Year'] == 2023)]['Total Revenue'].iloc[0]\n",
    "        return f\"The total revenue for Apple in 2023 was ${revenue:,.2f}.\"\n",
    "\n",
    "    elif query_lower == \"how much did tesla's net income grow from 2022 to 2023?\":\n",
    "        ni_2022 = df[(df['Company'] == 'Tesla') & (df['Fiscal Year'] == 2022)]['Net Income'].iloc[0]\n",
    "        ni_2023 = df[(df['Company'] == 'Tesla') & (df['Fiscal Year'] == 2023)]['Net Income'].iloc[0]\n",
    "        growth = ni_2023 - ni_2022\n",
    "        growth_percent = df[(df['Company'] == 'Tesla') & (df['Fiscal Year'] == 2023)]['Net Income Growth (%)'].iloc[0]\n",
    "        return f\"Tesla's net income grew by ${growth:,.2f} (or {growth_percent:.2f}%) from 2022 to 2023.\"\n",
    "\n",
    "    elif query_lower == \"what were the total assets for microsoft in 2024?\":\n",
    "        assets = df[(df['Company'] == 'Microsoft') & (df['Fiscal Year'] == 2024)]['Total Assets'].iloc[0]\n",
    "        return f\"The total assets for Microsoft in 2024 were ${assets:,.2f}.\"\n",
    "\n",
    "    elif query_lower == \"what was the average revenue growth across all companies in 2023?\":\n",
    "        df_2023 = df[df['Fiscal Year'] == 2023]\n",
    "        avg_growth = df_2023['Revenue Growth (%)'].mean()\n",
    "        return f\"The average revenue growth across Apple, Tesla, and Microsoft in 2023 was {avg_growth:.2f}%.\"\n",
    "\n",
    "    elif query_lower == \"give me a summary of apple's financial performance in 2024?\":\n",
    "        revenue_2024 = df[(df['Company'] == 'Apple') & (df['Fiscal Year'] == 2024)]['Total Revenue'].iloc[0]\n",
    "        net_income_2024 = df[(df['Company'] == 'Apple') & (df['Fiscal Year'] == 2024)]['Net Income'].iloc[0]\n",
    "        revenue_growth_2024 = df[(df['Company'] == 'Apple') & (df['Fiscal Year'] == 2024)]['Revenue Growth (%)'].iloc[0]\n",
    "        net_income_growth_2024 = df[(df['Company'] == 'Apple') & (df['Fiscal Year'] == 2024)]['Net Income Growth (%)'].iloc[0]\n",
    "        return (f\"In 2024, Apple's total revenue was ${revenue_2024:,.2f} with a growth of {revenue_growth_2024:.2f}% \"\n",
    "                f\"compared to 2023. Their net income was ${net_income_2024:,.2f}, showing a growth of {net_income_growth_2024:.2f}%.\"\n",
    "                )\n",
    "\n",
    "    else:\n",
    "        return \"Sorry, I can only provide information on predefined financial queries.\""
   ]
  },
  {
   "cell_type": "code",
   "execution_count": 4,
   "id": "a636513c-5199-4127-92ff-92b9f0b05e72",
   "metadata": {},
   "outputs": [
    {
     "name": "stdout",
     "output_type": "stream",
     "text": [
      "Demonstrating the Simple Financial Chatbot:\n",
      "\n",
      "User query: What was the total revenue for Apple in 2023?\n",
      "Chatbot response: The total revenue for Apple in 2023 was $383,285.00.\n",
      "\n",
      "User query: How much did Tesla's net income grow from 2022 to 2023?\n",
      "Chatbot response: Tesla's net income grew by $4,782.00 (or 554.76%) from 2022 to 2023.\n",
      "\n",
      "User query: What were the total assets for Microsoft in 2024?\n",
      "Chatbot response: The total assets for Microsoft in 2024 were $512,163.00.\n",
      "\n",
      "User query: What was the average revenue growth across all companies in 2023?\n",
      "Chatbot response: The average revenue growth across Apple, Tesla, and Microsoft in 2023 was 24.92%.\n",
      "\n",
      "User query: Give me a summary of Apple's financial performance in 2024?\n",
      "Chatbot response: In 2024, Apple's total revenue was $391,035.00 with a growth of 2.02% compared to 2023. Their net income was $93,736.00, showing a growth of -3.36%.\n",
      "\n",
      "User query: What is the net profit margin for Google?\n",
      "Chatbot response: Sorry, I can only provide information on predefined financial queries.\n",
      "\n",
      "User query: exit\n",
      "Chatbot response: Sorry, I can only provide information on predefined financial queries.\n"
     ]
    }
   ],
   "source": [
    "# Demonstrate the chatbot\n",
    "print(\"Demonstrating the Simple Financial Chatbot:\")\n",
    "queries_to_test = [\n",
    "    \"What was the total revenue for Apple in 2023?\",\n",
    "    \"How much did Tesla's net income grow from 2022 to 2023?\",\n",
    "    \"What were the total assets for Microsoft in 2024?\",\n",
    "    \"What was the average revenue growth across all companies in 2023?\",\n",
    "    \"Give me a summary of Apple's financial performance in 2024?\",\n",
    "    \"What is the net profit margin for Google?\", # Testing the 'unknown query' response\n",
    "    \"exit\"\n",
    "]\n",
    "for query in queries_to_test:\n",
    "    print(f\"\\nUser query: {query}\")\n",
    "    response = get_response(query)\n",
    "    print(f\"Chatbot response: {response}\")"
   ]
  },
  {
   "cell_type": "code",
   "execution_count": 5,
   "id": "c8a62bba-1684-46c6-a70e-da0ef35c54b4",
   "metadata": {},
   "outputs": [
    {
     "name": "stdout",
     "output_type": "stream",
     "text": [
      "\n",
      "--- Command-Line Interaction (Optional) ---\n"
     ]
    },
    {
     "name": "stdin",
     "output_type": "stream",
     "text": [
      "Ask a financial question (or type 'exit'):  What was the average revenue growth across all companies in 2023?\n"
     ]
    },
    {
     "name": "stdout",
     "output_type": "stream",
     "text": [
      "The average revenue growth across Apple, Tesla, and Microsoft in 2023 was 24.92%.\n"
     ]
    },
    {
     "name": "stdin",
     "output_type": "stream",
     "text": [
      "Ask a financial question (or type 'exit'):  What is the net profit margin for Google?\n"
     ]
    },
    {
     "name": "stdout",
     "output_type": "stream",
     "text": [
      "Sorry, I can only provide information on predefined financial queries.\n"
     ]
    },
    {
     "name": "stdin",
     "output_type": "stream",
     "text": [
      "Ask a financial question (or type 'exit'):  exit\n"
     ]
    }
   ],
   "source": [
    "# Basic chatbot development (Command-line interaction)\n",
    "if __name__ == \"__main__\":\n",
    "    print(\"\\n--- Command-Line Interaction (Optional) ---\")\n",
    "    while True:\n",
    "        user_input = input(\"Ask a financial question (or type 'exit'): \")\n",
    "        if user_input.lower() == 'exit':\n",
    "            break\n",
    "        response = get_response(user_input)\n",
    "        print(response)"
   ]
  },
  {
   "cell_type": "markdown",
   "id": "e9dd2052-eb80-43cc-ad27-108fe3e91852",
   "metadata": {},
   "source": [
    "### Chatbot Documentation: Simple Financial Query Responder\n",
    "\n",
    "**How it Works:**\n",
    "\n",
    "This is a rudimentary chatbot designed to answer specific financial questions based on pre-analyzed data for Apple, Microsoft, and Tesla from 2022 to 2024. When a user enters a query, the `get_response` function compares the lowercase version of the input to a set of predefined questions. If an exact match is found, the function retrieves the corresponding information directly from the pandas DataFrame (`df`) that holds the financial data and returns a formatted response. If no exact match is found, the chatbot provides a default \"Sorry...\" message.\n",
    "\n",
    "**Predefined Queries:**\n",
    "\n",
    "The chatbot is currently programmed to respond to the following financial queries (case-insensitive):\n",
    "\n",
    "1.  What was the total revenue for Apple in 2023?\n",
    "2.  How much did Tesla's net income grow from 2022 to 2023?\n",
    "3.  What were the total assets for Microsoft in 2024?\n",
    "4.  What was the average revenue growth across all companies in 2023?\n",
    "5.  Give me a summary of Apple's financial performance in 2024?\n",
    "\n",
    "**Limitations:**\n",
    "\n",
    "* **Limited Scope:** The chatbot can only understand and respond to the five specific predefined queries listed above. It cannot handle variations in phrasing, synonyms, related questions, or queries about other financial metrics or companies.\n",
    "* **Exact Matching (after lowercasing):** The chatbot relies on an exact match (after converting to lowercase) between the user's input and the predefined queries. Even slight differences in wording will result in an inability to provide an answer.\n",
    "* **Canned Responses:** The responses are pre-programmed and directly extracted from the loaded and analyzed data. The chatbot does not perform any real-time calculations or analysis based on the user's input beyond this lookup.\n",
    "* **No Natural Language Understanding (NLU):** The chatbot lacks any natural language understanding capabilities. It cannot interpret the meaning or intent behind more complex or conversational queries.\n",
    "* **Data Dependency:** The chatbot's knowledge is limited to the data present in the `financial_data.csv` file and the calculations performed in the initial data loading and analysis steps. It cannot access or process any new or external information.\n",
    "* **Basic Interaction:** The current implementation provides a simple command-line interface within the Jupyter Notebook. It lacks a more user-friendly or interactive interface."
   ]
  },
  {
   "cell_type": "markdown",
   "id": "2c34294f-e3ad-40bb-9bf7-fad6461e80e9",
   "metadata": {},
   "source": [
    "### Potential Improvements:\n",
    "\n",
    "* Implement case-insensitive query matching.\n",
    "* Use more advanced techniques like keyword matching or regular expressions for more flexible query understanding.\n",
    "* Connect to a live data source or enable dynamic calculations.\n",
    "* Develop a more interactive user interface (e.g., using widgets in Jupyter Notebook or a web framework like Flask).\n",
    "* Expand the range of financial queries the chatbot can handle.\n",
    "* Incorporate error handling for unexpected user input."
   ]
  },
  {
   "cell_type": "code",
   "execution_count": null,
   "id": "36c2d60d-4c8c-43f7-a16f-ef7f2f941c8f",
   "metadata": {},
   "outputs": [],
   "source": []
  }
 ],
 "metadata": {
  "kernelspec": {
   "display_name": "Python 3 (ipykernel)",
   "language": "python",
   "name": "python3"
  },
  "language_info": {
   "codemirror_mode": {
    "name": "ipython",
    "version": 3
   },
   "file_extension": ".py",
   "mimetype": "text/x-python",
   "name": "python",
   "nbconvert_exporter": "python",
   "pygments_lexer": "ipython3",
   "version": "3.13.3"
  }
 },
 "nbformat": 4,
 "nbformat_minor": 5
}
